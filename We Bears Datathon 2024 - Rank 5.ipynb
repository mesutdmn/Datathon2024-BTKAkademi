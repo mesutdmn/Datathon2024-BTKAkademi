version https://git-lfs.github.com/spec/v1
oid sha256:9e415cb9cf8dff695be5e3f8f8bf1b91515b4ae0454d3762c590a825fe8f05af
size 3246383
